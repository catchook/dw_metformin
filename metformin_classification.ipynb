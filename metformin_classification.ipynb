{
  "nbformat": 4,
  "nbformat_minor": 0,
  "metadata": {
    "colab": {
      "name": "metformin_classification.ipynb",
      "provenance": [],
      "collapsed_sections": []
    },
    "kernelspec": {
      "name": "python3",
      "display_name": "Python 3"
    },
    "language_info": {
      "name": "python"
    },
    "gpuClass": "standard"
  },
  "cells": [
    {
      "cell_type": "code",
      "source": [
        "import numpy as np\n",
        "import pandas as pd\n",
        "import seaborn as sns\n",
        "import matplotlib.pyplot as plt \n",
        "import statsmodels.api as sm\n",
        "import statsmodels.formula.api as smf\n",
        "from statsmodels.formula.api import ols, glm\n",
        "import re"
      ],
      "metadata": {
        "id": "yTj_AtzGu3Am",
        "colab": {
          "base_uri": "https://localhost:8080/"
        },
        "outputId": "2bf87b5c-05d5-44a9-ebdf-54f25eb091e4"
      },
      "execution_count": 1,
      "outputs": [
        {
          "output_type": "stream",
          "name": "stderr",
          "text": [
            "/usr/local/lib/python3.7/dist-packages/statsmodels/tools/_testing.py:19: FutureWarning: pandas.util.testing is deprecated. Use the functions in the public API at pandas.testing instead.\n",
            "  import pandas.util.testing as tm\n"
          ]
        }
      ]
    },
    {
      "cell_type": "code",
      "source": [
        "from google.colab import drive\n",
        "drive.mount('/content/drive')"
      ],
      "metadata": {
        "id": "3GFEyNm1uV97",
        "colab": {
          "base_uri": "https://localhost:8080/"
        },
        "outputId": "09b7c897-e29d-4568-8260-9efc988a4915"
      },
      "execution_count": 2,
      "outputs": [
        {
          "output_type": "stream",
          "name": "stdout",
          "text": [
            "Drive already mounted at /content/drive; to attempt to forcibly remount, call drive.mount(\"/content/drive\", force_remount=True).\n"
          ]
        }
      ]
    },
    {
      "cell_type": "code",
      "source": [
        "pwd"
      ],
      "metadata": {
        "id": "Qdym9urBxn1W",
        "outputId": "bd65d3fe-be61-4b14-db59-97d63ec4aee1",
        "colab": {
          "base_uri": "https://localhost:8080/",
          "height": 35
        }
      },
      "execution_count": null,
      "outputs": [
        {
          "output_type": "execute_result",
          "data": {
            "text/plain": [
              "'/content'"
            ],
            "application/vnd.google.colaboratory.intrinsic+json": {
              "type": "string"
            }
          },
          "metadata": {},
          "execution_count": 3
        }
      ]
    },
    {
      "cell_type": "markdown",
      "source": [
        "### 데이터 확인 - clinical 상위 체계"
      ],
      "metadata": {
        "id": "MIyH-BcCsd8n"
      }
    },
    {
      "cell_type": "code",
      "source": [
        "data = pd.read_csv(\"./drive/MyDrive/DW_metformin/DQM A Concept Sets.csv\") \n",
        "cdc= data[data['Class']=='Clinical Drug Comp']\n",
        "cdg= data[data['Class']=='Clinical Dose Group'] #병용 성분 표기 \n",
        "cdf= data[data['Class']=='Clinical Drug Form']  #병용 성분 표기 "
      ],
      "metadata": {
        "id": "sYEoFolWu67l"
      },
      "execution_count": null,
      "outputs": []
    },
    {
      "cell_type": "code",
      "source": [
        "#CDG - 성분만 추출, 용량은 없음. \n",
        "import re\n",
        "cdg_name =cdg['Name']\n",
        "cdg_ingredient = [re.sub(\"metformin|Oral|Product|Pill|/|Liquid\", \"\",i) for i in cdg_name] #특정 문자 제거 \n",
        "cdg_ingredient= [i.strip() for i in cdg_ingredient] #공백제거 \n",
        "cdg_ingredient = list(set(cdg_ingredient))\n",
        "print(cdg_ingredient)"
      ],
      "metadata": {
        "id": "5ulkORdjvikc"
      },
      "execution_count": null,
      "outputs": []
    },
    {
      "cell_type": "code",
      "source": [
        "# CDF-성분만 추출 \n",
        "cdf_name = cdf['Name']\n",
        "cdf_ingredient = [re.sub(\"Powder|Solution|for|metformin|Metformin|Oral|Tablet|Suspension|Injectable Solution|Capsule|Extended Release|/|Delayed Release\", \"\",i) for i in cdf_name] #특정 문자 제거 \n",
        "cdf_ingredient= [i.strip() for i in cdf_ingredient] #공백제거 \n",
        "cdf_ingredient = list(set(cdf_ingredient))\n",
        "cdf_ingredient"
      ],
      "metadata": {
        "id": "AaZnt0075a2X"
      },
      "execution_count": null,
      "outputs": []
    },
    {
      "cell_type": "markdown",
      "source": [
        "### 데이터 확인 - Branded-하위체계\n",
        "#### Branded Drug Comp --> 성분명,용량?`\n",
        "#### Branded Drug Form --> 성분명"
      ],
      "metadata": {
        "id": "Yvst6JRms76d"
      }
    },
    {
      "cell_type": "code",
      "source": [
        "# Branded Drug Comp \n",
        "# 복합제 성분만 우선 추출: / 가 있는 것만 추출 \n",
        "# 숫자, MG, 상품명 제거 []안에 든 문자 모두 제거 \n",
        "# metformin 제거  \n",
        "bdc= data[data['Class']=='Branded Drug Comp']\n",
        "bdc.head()"
      ],
      "metadata": {
        "id": "U2BmtmKB8pQq"
      },
      "execution_count": null,
      "outputs": []
    },
    {
      "cell_type": "markdown",
      "source": [
        "### 병용 약물 확인"
      ],
      "metadata": {
        "id": "XBBL8ccKtYKW"
      }
    },
    {
      "cell_type": "code",
      "source": [
        "## 병용 성분 확인 (branded drug comp) \n",
        "# branded drug comp 우선, labeling \n",
        "ingredient = re.compile('(?P<ingredient1>[a-zA-Z]+\\s?[a-zA-Z]+) [0-9]+? MG? /? (?P<ingredient2>[a-zA-Z]+\\s?[a-zA-Z]+)? [0-9]+? MG? [[a-zA-Z]+]?')\n",
        "matchobj= [ingredient.search(i)  for i in bdc[\"Name\"]] # 복합제 및 병용만 추출  \n",
        "ing=list(filter(None, matchobj))  # none값 필터링\n"
      ],
      "metadata": {
        "colab": {
          "base_uri": "https://localhost:8080/"
        },
        "id": "zFJWwZTNSYmQ",
        "outputId": "2954ae89-daeb-4fd0-e62e-f5599a8456a8"
      },
      "execution_count": null,
      "outputs": [
        {
          "output_type": "stream",
          "name": "stderr",
          "text": [
            "/usr/local/lib/python3.7/dist-packages/ipykernel_launcher.py:4: FutureWarning: Possible nested set at position 107\n",
            "  after removing the cwd from sys.path.\n"
          ]
        }
      ]
    },
    {
      "cell_type": "code",
      "source": [
        "## 병용 성분 확인 \n",
        "ingredient1= [i.group(1) for i in ing]\n",
        "ingredient1=list(set(ingredient1)) #중복제거 \n",
        "ingredient2= [i.group(2) for i in ing]\n",
        "ingredient2=list(set(ingredient2)) #중복제거 \n",
        "total = ingredient1+ ingredient2\n",
        "total = list(set(total))\n",
        "total"
      ],
      "metadata": {
        "id": "BvO29eELVOIp",
        "colab": {
          "base_uri": "https://localhost:8080/",
          "height": 35
        },
        "outputId": "4d8155da-0f08-4705-f235-94add6999477"
      },
      "execution_count": null,
      "outputs": [
        {
          "output_type": "execute_result",
          "data": {
            "text/plain": [
              "' gnd: repaglinide, nateglinide\\n    sglt-2: -ozin\\n    statin: -statin\\n    su: gl-\\n    dpp4i: -liptin\\n    tzd: -zone\\n'"
            ],
            "application/vnd.google.colaboratory.intrinsic+json": {
              "type": "string"
            }
          },
          "metadata": {},
          "execution_count": 8
        }
      ]
    },
    {
      "cell_type": "markdown",
      "source": [
        "## 조건식으로 분류 \n",
        "### 병용 성분 확인: \n",
        "#####clinical drug form (성분/성분/제형, 3제요법도 포함), \n",
        "#####clinical dose group (성분/성분 제형)\n",
        "#####branded drug comp (성분 용량mg / 성분 용량mg [상품명])\n",
        "#####branded drug form(성분/ 성분 제형 [상품명])\n",
        "\n",
        "    gnd: -glinide\n",
        "    sglt-2: -ozin\n",
        "    alpha : -bose\n",
        "    su: gl- or -amide\n",
        "    dpp4i: -liptin\n",
        "    tzd: -zone\n",
        "\n",
        "    ** 제거  statin: -statin, ropinirole (치매약)\n"
      ],
      "metadata": {
        "id": "efqhTRuwsREm"
      }
    },
    {
      "cell_type": "code",
      "source": [
        "# 병용 약물군 분류 \n",
        "## 성분/성분 형식만: clinical drug form, clinical dose group, branded drug  form \n",
        "condition= (data.Class=='Clinical Drug Form') | (data.Class=='Branded Drug Form') |(data.Class=='Clinical Dose Group')\n",
        "db1= data[condition]\n",
        "db1.head()\n",
        "## 병용 성분 갯수 세기: 3제 요법이 있는지 확인. \n",
        "db1['ingredient_count'] =   [i.count(' / ')+1 for i in db1['Name']]\n",
        "##2제 요법만 골라서 분류 \n",
        "db2= db1[db1.ingredient_count==2]"
      ],
      "metadata": {
        "id": "RAJk7xlPsJsT"
      },
      "execution_count": null,
      "outputs": []
    },
    {
      "cell_type": "code",
      "source": [
        "ingredient = re.compile('(?P<ingredient1>[a-zA-Z]+) / (?P<ingredeint2>[a-zA-Z]+)')\n",
        "matchobj= [ingredient.search(i)  for i in db2[\"Name\"]]  \n",
        "matchobj\n",
        "lists=[]\n",
        "for v in matchobj:\n",
        "  if  v.group(1).lower().startswith('gl') or v.group(2).lower().startswith('gl'):\n",
        "    lists.append('SU')\n",
        "  elif v.group(1).lower().endswith('amide') or v.group(2).lower().endswith('amide'):\n",
        "    lists.append('SU')\n",
        "  elif v.group(1).lower().endswith('ozin') or v.group(2).lower().endswith('ozin'):\n",
        "    lists.append('sglt2')\n",
        "  elif v.group(1).lower().endswith('liptin') or v.group(2).lower().endswith('liptin'):\n",
        "    lists.append('dpp4i')\n",
        "  elif v.group(1).lower().endswith('zone') or v.group(2).lower().endswith('zone'):\n",
        "    lists.append('tzd')\n",
        "  elif v.group(1).lower().endswith('glinide') or v.group(2).lower().endswith('glinide'):\n",
        "    lists.append('gnd')\n",
        "  elif v.group(1).lower().endswith('bose') or v.group(2).lower().endswith('bose'):\n",
        "    lists.append('alpha')\n",
        "  else:\n",
        "    lists.append('error')\n",
        "lists\n",
        "db2['type']=lists\n",
        "db2.head()"
      ],
      "metadata": {
        "colab": {
          "base_uri": "https://localhost:8080/",
          "height": 111
        },
        "id": "uCSn1vXgtyg5",
        "outputId": "f37d8b90-0a1a-4713-f066-d3234f9a4100"
      },
      "execution_count": 50,
      "outputs": [
        {
          "output_type": "execute_result",
          "data": {
            "text/plain": [
              "Empty DataFrame\n",
              "Columns: [Unnamed: 0, Unnamed: 0.1, Id, Code, Name, Class, Standard Concept Caption, RC, DRC, Domain, Vocabulary, Ancestors, ingredient_count, type1, type2, type]\n",
              "Index: []"
            ],
            "text/html": [
              "\n",
              "  <div id=\"df-8cffd08b-40f6-41dc-ba06-94729242f6bc\">\n",
              "    <div class=\"colab-df-container\">\n",
              "      <div>\n",
              "<style scoped>\n",
              "    .dataframe tbody tr th:only-of-type {\n",
              "        vertical-align: middle;\n",
              "    }\n",
              "\n",
              "    .dataframe tbody tr th {\n",
              "        vertical-align: top;\n",
              "    }\n",
              "\n",
              "    .dataframe thead th {\n",
              "        text-align: right;\n",
              "    }\n",
              "</style>\n",
              "<table border=\"1\" class=\"dataframe\">\n",
              "  <thead>\n",
              "    <tr style=\"text-align: right;\">\n",
              "      <th></th>\n",
              "      <th>Unnamed: 0</th>\n",
              "      <th>Unnamed: 0.1</th>\n",
              "      <th>Id</th>\n",
              "      <th>Code</th>\n",
              "      <th>Name</th>\n",
              "      <th>Class</th>\n",
              "      <th>Standard Concept Caption</th>\n",
              "      <th>RC</th>\n",
              "      <th>DRC</th>\n",
              "      <th>Domain</th>\n",
              "      <th>Vocabulary</th>\n",
              "      <th>Ancestors</th>\n",
              "      <th>ingredient_count</th>\n",
              "      <th>type1</th>\n",
              "      <th>type2</th>\n",
              "      <th>type</th>\n",
              "    </tr>\n",
              "  </thead>\n",
              "  <tbody>\n",
              "  </tbody>\n",
              "</table>\n",
              "</div>\n",
              "      <button class=\"colab-df-convert\" onclick=\"convertToInteractive('df-8cffd08b-40f6-41dc-ba06-94729242f6bc')\"\n",
              "              title=\"Convert this dataframe to an interactive table.\"\n",
              "              style=\"display:none;\">\n",
              "        \n",
              "  <svg xmlns=\"http://www.w3.org/2000/svg\" height=\"24px\"viewBox=\"0 0 24 24\"\n",
              "       width=\"24px\">\n",
              "    <path d=\"M0 0h24v24H0V0z\" fill=\"none\"/>\n",
              "    <path d=\"M18.56 5.44l.94 2.06.94-2.06 2.06-.94-2.06-.94-.94-2.06-.94 2.06-2.06.94zm-11 1L8.5 8.5l.94-2.06 2.06-.94-2.06-.94L8.5 2.5l-.94 2.06-2.06.94zm10 10l.94 2.06.94-2.06 2.06-.94-2.06-.94-.94-2.06-.94 2.06-2.06.94z\"/><path d=\"M17.41 7.96l-1.37-1.37c-.4-.4-.92-.59-1.43-.59-.52 0-1.04.2-1.43.59L10.3 9.45l-7.72 7.72c-.78.78-.78 2.05 0 2.83L4 21.41c.39.39.9.59 1.41.59.51 0 1.02-.2 1.41-.59l7.78-7.78 2.81-2.81c.8-.78.8-2.07 0-2.86zM5.41 20L4 18.59l7.72-7.72 1.47 1.35L5.41 20z\"/>\n",
              "  </svg>\n",
              "      </button>\n",
              "      \n",
              "  <style>\n",
              "    .colab-df-container {\n",
              "      display:flex;\n",
              "      flex-wrap:wrap;\n",
              "      gap: 12px;\n",
              "    }\n",
              "\n",
              "    .colab-df-convert {\n",
              "      background-color: #E8F0FE;\n",
              "      border: none;\n",
              "      border-radius: 50%;\n",
              "      cursor: pointer;\n",
              "      display: none;\n",
              "      fill: #1967D2;\n",
              "      height: 32px;\n",
              "      padding: 0 0 0 0;\n",
              "      width: 32px;\n",
              "    }\n",
              "\n",
              "    .colab-df-convert:hover {\n",
              "      background-color: #E2EBFA;\n",
              "      box-shadow: 0px 1px 2px rgba(60, 64, 67, 0.3), 0px 1px 3px 1px rgba(60, 64, 67, 0.15);\n",
              "      fill: #174EA6;\n",
              "    }\n",
              "\n",
              "    [theme=dark] .colab-df-convert {\n",
              "      background-color: #3B4455;\n",
              "      fill: #D2E3FC;\n",
              "    }\n",
              "\n",
              "    [theme=dark] .colab-df-convert:hover {\n",
              "      background-color: #434B5C;\n",
              "      box-shadow: 0px 1px 3px 1px rgba(0, 0, 0, 0.15);\n",
              "      filter: drop-shadow(0px 1px 2px rgba(0, 0, 0, 0.3));\n",
              "      fill: #FFFFFF;\n",
              "    }\n",
              "  </style>\n",
              "\n",
              "      <script>\n",
              "        const buttonEl =\n",
              "          document.querySelector('#df-8cffd08b-40f6-41dc-ba06-94729242f6bc button.colab-df-convert');\n",
              "        buttonEl.style.display =\n",
              "          google.colab.kernel.accessAllowed ? 'block' : 'none';\n",
              "\n",
              "        async function convertToInteractive(key) {\n",
              "          const element = document.querySelector('#df-8cffd08b-40f6-41dc-ba06-94729242f6bc');\n",
              "          const dataTable =\n",
              "            await google.colab.kernel.invokeFunction('convertToInteractive',\n",
              "                                                     [key], {});\n",
              "          if (!dataTable) return;\n",
              "\n",
              "          const docLinkHtml = 'Like what you see? Visit the ' +\n",
              "            '<a target=\"_blank\" href=https://colab.research.google.com/notebooks/data_table.ipynb>data table notebook</a>'\n",
              "            + ' to learn more about interactive tables.';\n",
              "          element.innerHTML = '';\n",
              "          dataTable['output_type'] = 'display_data';\n",
              "          await google.colab.output.renderOutput(dataTable, element);\n",
              "          const docLink = document.createElement('div');\n",
              "          docLink.innerHTML = docLinkHtml;\n",
              "          element.appendChild(docLink);\n",
              "        }\n",
              "      </script>\n",
              "    </div>\n",
              "  </div>\n",
              "  "
            ]
          },
          "metadata": {},
          "execution_count": 50
        }
      ]
    },
    {
      "cell_type": "code",
      "source": [
        "db2.to_csv('./test.csv')"
      ],
      "metadata": {
        "id": "25RZEsrOX7BC"
      },
      "execution_count": 51,
      "outputs": []
    },
    {
      "cell_type": "code",
      "source": [
        "# 1제 요법은 type= single\n",
        "# 3제 요법은 type = error \n",
        "db11=db1[db1.ingredient_count ==1]\n",
        "db13=db1[db1.ingredient_count ==3]\n",
        "db11['type'] = 'single'\n",
        "db13['type'] = 'error'\n"
      ],
      "metadata": {
        "id": "fQieSQFD74Op"
      },
      "execution_count": 52,
      "outputs": []
    },
    {
      "cell_type": "code",
      "source": [
        "#1,2,3 제 요법 합치기. \n",
        "db = pd.concat([db11, db2, db13], axis=0)\n",
        "db.head()"
      ],
      "metadata": {
        "colab": {
          "base_uri": "https://localhost:8080/",
          "height": 530
        },
        "id": "nREQFGqlADAq",
        "outputId": "3225d1e5-c98c-4c4e-a607-11014e4c05d2"
      },
      "execution_count": 53,
      "outputs": [
        {
          "output_type": "execute_result",
          "data": {
            "text/plain": [
              "    Unnamed: 0  Unnamed: 0.1        Id         Code  \\\n",
              "0            0           NaN  46234112      1653600   \n",
              "1            1           NaN  46234111      1653597   \n",
              "50          50           NaN  44121622  OMOP1116253   \n",
              "51          51           NaN  44121403  OMOP1116034   \n",
              "52          52           NaN  44121402  OMOP1116033   \n",
              "\n",
              "                                             Name              Class  \\\n",
              "0              liraglutide Pen Injector [Saxenda]  Branded Drug Form   \n",
              "1              liraglutide Pen Injector [Victoza]  Branded Drug Form   \n",
              "50      liraglutide Injectable Solution [Victoza]  Branded Drug Form   \n",
              "51  pioglitazone Oral Tablet [Accel Pioglitazone]  Branded Drug Form   \n",
              "52    pioglitazone Oral Tablet [Apo-Pioglitazone]  Branded Drug Form   \n",
              "\n",
              "   Standard Concept Caption RC    DRC Domain        Vocabulary  Ancestors  \\\n",
              "0                  Standard  0  7,494   Drug            RxNorm          1   \n",
              "1                  Standard  0      0   Drug            RxNorm          1   \n",
              "50                 Standard  0      0   Drug  RxNorm Extension          1   \n",
              "51                 Standard  0      0   Drug  RxNorm Extension          1   \n",
              "52                 Standard  0      0   Drug  RxNorm Extension          1   \n",
              "\n",
              "    ingredient_count  type1 type2    type  \n",
              "0                  1  error        single  \n",
              "1                  1  error        single  \n",
              "50                 1  error        single  \n",
              "51                 1    tzd        single  \n",
              "52                 1    tzd        single  "
            ],
            "text/html": [
              "\n",
              "  <div id=\"df-c06c55ca-b3c6-4ab8-bfca-3915abbb0022\">\n",
              "    <div class=\"colab-df-container\">\n",
              "      <div>\n",
              "<style scoped>\n",
              "    .dataframe tbody tr th:only-of-type {\n",
              "        vertical-align: middle;\n",
              "    }\n",
              "\n",
              "    .dataframe tbody tr th {\n",
              "        vertical-align: top;\n",
              "    }\n",
              "\n",
              "    .dataframe thead th {\n",
              "        text-align: right;\n",
              "    }\n",
              "</style>\n",
              "<table border=\"1\" class=\"dataframe\">\n",
              "  <thead>\n",
              "    <tr style=\"text-align: right;\">\n",
              "      <th></th>\n",
              "      <th>Unnamed: 0</th>\n",
              "      <th>Unnamed: 0.1</th>\n",
              "      <th>Id</th>\n",
              "      <th>Code</th>\n",
              "      <th>Name</th>\n",
              "      <th>Class</th>\n",
              "      <th>Standard Concept Caption</th>\n",
              "      <th>RC</th>\n",
              "      <th>DRC</th>\n",
              "      <th>Domain</th>\n",
              "      <th>Vocabulary</th>\n",
              "      <th>Ancestors</th>\n",
              "      <th>ingredient_count</th>\n",
              "      <th>type1</th>\n",
              "      <th>type2</th>\n",
              "      <th>type</th>\n",
              "    </tr>\n",
              "  </thead>\n",
              "  <tbody>\n",
              "    <tr>\n",
              "      <th>0</th>\n",
              "      <td>0</td>\n",
              "      <td>NaN</td>\n",
              "      <td>46234112</td>\n",
              "      <td>1653600</td>\n",
              "      <td>liraglutide Pen Injector [Saxenda]</td>\n",
              "      <td>Branded Drug Form</td>\n",
              "      <td>Standard</td>\n",
              "      <td>0</td>\n",
              "      <td>7,494</td>\n",
              "      <td>Drug</td>\n",
              "      <td>RxNorm</td>\n",
              "      <td>1</td>\n",
              "      <td>1</td>\n",
              "      <td>error</td>\n",
              "      <td></td>\n",
              "      <td>single</td>\n",
              "    </tr>\n",
              "    <tr>\n",
              "      <th>1</th>\n",
              "      <td>1</td>\n",
              "      <td>NaN</td>\n",
              "      <td>46234111</td>\n",
              "      <td>1653597</td>\n",
              "      <td>liraglutide Pen Injector [Victoza]</td>\n",
              "      <td>Branded Drug Form</td>\n",
              "      <td>Standard</td>\n",
              "      <td>0</td>\n",
              "      <td>0</td>\n",
              "      <td>Drug</td>\n",
              "      <td>RxNorm</td>\n",
              "      <td>1</td>\n",
              "      <td>1</td>\n",
              "      <td>error</td>\n",
              "      <td></td>\n",
              "      <td>single</td>\n",
              "    </tr>\n",
              "    <tr>\n",
              "      <th>50</th>\n",
              "      <td>50</td>\n",
              "      <td>NaN</td>\n",
              "      <td>44121622</td>\n",
              "      <td>OMOP1116253</td>\n",
              "      <td>liraglutide Injectable Solution [Victoza]</td>\n",
              "      <td>Branded Drug Form</td>\n",
              "      <td>Standard</td>\n",
              "      <td>0</td>\n",
              "      <td>0</td>\n",
              "      <td>Drug</td>\n",
              "      <td>RxNorm Extension</td>\n",
              "      <td>1</td>\n",
              "      <td>1</td>\n",
              "      <td>error</td>\n",
              "      <td></td>\n",
              "      <td>single</td>\n",
              "    </tr>\n",
              "    <tr>\n",
              "      <th>51</th>\n",
              "      <td>51</td>\n",
              "      <td>NaN</td>\n",
              "      <td>44121403</td>\n",
              "      <td>OMOP1116034</td>\n",
              "      <td>pioglitazone Oral Tablet [Accel Pioglitazone]</td>\n",
              "      <td>Branded Drug Form</td>\n",
              "      <td>Standard</td>\n",
              "      <td>0</td>\n",
              "      <td>0</td>\n",
              "      <td>Drug</td>\n",
              "      <td>RxNorm Extension</td>\n",
              "      <td>1</td>\n",
              "      <td>1</td>\n",
              "      <td>tzd</td>\n",
              "      <td></td>\n",
              "      <td>single</td>\n",
              "    </tr>\n",
              "    <tr>\n",
              "      <th>52</th>\n",
              "      <td>52</td>\n",
              "      <td>NaN</td>\n",
              "      <td>44121402</td>\n",
              "      <td>OMOP1116033</td>\n",
              "      <td>pioglitazone Oral Tablet [Apo-Pioglitazone]</td>\n",
              "      <td>Branded Drug Form</td>\n",
              "      <td>Standard</td>\n",
              "      <td>0</td>\n",
              "      <td>0</td>\n",
              "      <td>Drug</td>\n",
              "      <td>RxNorm Extension</td>\n",
              "      <td>1</td>\n",
              "      <td>1</td>\n",
              "      <td>tzd</td>\n",
              "      <td></td>\n",
              "      <td>single</td>\n",
              "    </tr>\n",
              "  </tbody>\n",
              "</table>\n",
              "</div>\n",
              "      <button class=\"colab-df-convert\" onclick=\"convertToInteractive('df-c06c55ca-b3c6-4ab8-bfca-3915abbb0022')\"\n",
              "              title=\"Convert this dataframe to an interactive table.\"\n",
              "              style=\"display:none;\">\n",
              "        \n",
              "  <svg xmlns=\"http://www.w3.org/2000/svg\" height=\"24px\"viewBox=\"0 0 24 24\"\n",
              "       width=\"24px\">\n",
              "    <path d=\"M0 0h24v24H0V0z\" fill=\"none\"/>\n",
              "    <path d=\"M18.56 5.44l.94 2.06.94-2.06 2.06-.94-2.06-.94-.94-2.06-.94 2.06-2.06.94zm-11 1L8.5 8.5l.94-2.06 2.06-.94-2.06-.94L8.5 2.5l-.94 2.06-2.06.94zm10 10l.94 2.06.94-2.06 2.06-.94-2.06-.94-.94-2.06-.94 2.06-2.06.94z\"/><path d=\"M17.41 7.96l-1.37-1.37c-.4-.4-.92-.59-1.43-.59-.52 0-1.04.2-1.43.59L10.3 9.45l-7.72 7.72c-.78.78-.78 2.05 0 2.83L4 21.41c.39.39.9.59 1.41.59.51 0 1.02-.2 1.41-.59l7.78-7.78 2.81-2.81c.8-.78.8-2.07 0-2.86zM5.41 20L4 18.59l7.72-7.72 1.47 1.35L5.41 20z\"/>\n",
              "  </svg>\n",
              "      </button>\n",
              "      \n",
              "  <style>\n",
              "    .colab-df-container {\n",
              "      display:flex;\n",
              "      flex-wrap:wrap;\n",
              "      gap: 12px;\n",
              "    }\n",
              "\n",
              "    .colab-df-convert {\n",
              "      background-color: #E8F0FE;\n",
              "      border: none;\n",
              "      border-radius: 50%;\n",
              "      cursor: pointer;\n",
              "      display: none;\n",
              "      fill: #1967D2;\n",
              "      height: 32px;\n",
              "      padding: 0 0 0 0;\n",
              "      width: 32px;\n",
              "    }\n",
              "\n",
              "    .colab-df-convert:hover {\n",
              "      background-color: #E2EBFA;\n",
              "      box-shadow: 0px 1px 2px rgba(60, 64, 67, 0.3), 0px 1px 3px 1px rgba(60, 64, 67, 0.15);\n",
              "      fill: #174EA6;\n",
              "    }\n",
              "\n",
              "    [theme=dark] .colab-df-convert {\n",
              "      background-color: #3B4455;\n",
              "      fill: #D2E3FC;\n",
              "    }\n",
              "\n",
              "    [theme=dark] .colab-df-convert:hover {\n",
              "      background-color: #434B5C;\n",
              "      box-shadow: 0px 1px 3px 1px rgba(0, 0, 0, 0.15);\n",
              "      filter: drop-shadow(0px 1px 2px rgba(0, 0, 0, 0.3));\n",
              "      fill: #FFFFFF;\n",
              "    }\n",
              "  </style>\n",
              "\n",
              "      <script>\n",
              "        const buttonEl =\n",
              "          document.querySelector('#df-c06c55ca-b3c6-4ab8-bfca-3915abbb0022 button.colab-df-convert');\n",
              "        buttonEl.style.display =\n",
              "          google.colab.kernel.accessAllowed ? 'block' : 'none';\n",
              "\n",
              "        async function convertToInteractive(key) {\n",
              "          const element = document.querySelector('#df-c06c55ca-b3c6-4ab8-bfca-3915abbb0022');\n",
              "          const dataTable =\n",
              "            await google.colab.kernel.invokeFunction('convertToInteractive',\n",
              "                                                     [key], {});\n",
              "          if (!dataTable) return;\n",
              "\n",
              "          const docLinkHtml = 'Like what you see? Visit the ' +\n",
              "            '<a target=\"_blank\" href=https://colab.research.google.com/notebooks/data_table.ipynb>data table notebook</a>'\n",
              "            + ' to learn more about interactive tables.';\n",
              "          element.innerHTML = '';\n",
              "          dataTable['output_type'] = 'display_data';\n",
              "          await google.colab.output.renderOutput(dataTable, element);\n",
              "          const docLink = document.createElement('div');\n",
              "          docLink.innerHTML = docLinkHtml;\n",
              "          element.appendChild(docLink);\n",
              "        }\n",
              "      </script>\n",
              "    </div>\n",
              "  </div>\n",
              "  "
            ]
          },
          "metadata": {},
          "execution_count": 53
        }
      ]
    },
    {
      "cell_type": "code",
      "source": [
        "# branded drug comp (성분 용량mg / 성분 용량mg [상품명]) 분류 \n",
        "## ingredient_count 병용약물 갯수 세기 \n",
        "db1= data[data.Class=='Branded Drug Comp']\n",
        "db1['ingredient_count'] =   [i.count(' / ')+1 for i in db1['Name']]\n",
        "##2제 요법만 골라서 분류 \n",
        "db2= db1[db1.ingredient_count==2]\n",
        "db2.head()"
      ],
      "metadata": {
        "colab": {
          "base_uri": "https://localhost:8080/",
          "height": 245
        },
        "id": "6ZhdxRvmAYfh",
        "outputId": "17e571e6-d197-4590-ceb0-9dab6ca0713f"
      },
      "execution_count": 54,
      "outputs": [
        {
          "output_type": "error",
          "ename": "NameError",
          "evalue": "ignored",
          "traceback": [
            "\u001b[0;31m---------------------------------------------------------------------------\u001b[0m",
            "\u001b[0;31mNameError\u001b[0m                                 Traceback (most recent call last)",
            "\u001b[0;32m<ipython-input-54-567d6403c34c>\u001b[0m in \u001b[0;36m<module>\u001b[0;34m()\u001b[0m\n\u001b[1;32m      1\u001b[0m \u001b[0;31m# branded drug comp (성분 용량mg / 성분 용량mg [상품명]) 분류\u001b[0m\u001b[0;34m\u001b[0m\u001b[0;34m\u001b[0m\u001b[0;34m\u001b[0m\u001b[0m\n\u001b[1;32m      2\u001b[0m \u001b[0;31m## ingredient_count 병용약물 갯수 세기\u001b[0m\u001b[0;34m\u001b[0m\u001b[0;34m\u001b[0m\u001b[0;34m\u001b[0m\u001b[0m\n\u001b[0;32m----> 3\u001b[0;31m \u001b[0mdb1\u001b[0m\u001b[0;34m=\u001b[0m \u001b[0mdata\u001b[0m\u001b[0;34m[\u001b[0m\u001b[0mdata\u001b[0m\u001b[0;34m.\u001b[0m\u001b[0mClass\u001b[0m\u001b[0;34m==\u001b[0m\u001b[0;34m'Branded Drug Comp'\u001b[0m\u001b[0;34m]\u001b[0m\u001b[0;34m\u001b[0m\u001b[0;34m\u001b[0m\u001b[0m\n\u001b[0m\u001b[1;32m      4\u001b[0m \u001b[0mdb1\u001b[0m\u001b[0;34m[\u001b[0m\u001b[0;34m'ingredient_count'\u001b[0m\u001b[0;34m]\u001b[0m \u001b[0;34m=\u001b[0m   \u001b[0;34m[\u001b[0m\u001b[0mi\u001b[0m\u001b[0;34m.\u001b[0m\u001b[0mcount\u001b[0m\u001b[0;34m(\u001b[0m\u001b[0;34m' / '\u001b[0m\u001b[0;34m)\u001b[0m\u001b[0;34m+\u001b[0m\u001b[0;36m1\u001b[0m \u001b[0;32mfor\u001b[0m \u001b[0mi\u001b[0m \u001b[0;32min\u001b[0m \u001b[0mdb1\u001b[0m\u001b[0;34m[\u001b[0m\u001b[0;34m'Name'\u001b[0m\u001b[0;34m]\u001b[0m\u001b[0;34m]\u001b[0m\u001b[0;34m\u001b[0m\u001b[0;34m\u001b[0m\u001b[0m\n\u001b[1;32m      5\u001b[0m \u001b[0;31m##2제 요법만 골라서 분류\u001b[0m\u001b[0;34m\u001b[0m\u001b[0;34m\u001b[0m\u001b[0;34m\u001b[0m\u001b[0m\n",
            "\u001b[0;31mNameError\u001b[0m: name 'data' is not defined"
          ]
        }
      ]
    },
    {
      "cell_type": "code",
      "source": [
        "db2.head(7)"
      ],
      "metadata": {
        "id": "9Q6-eU8lDsug"
      },
      "execution_count": null,
      "outputs": []
    },
    {
      "cell_type": "code",
      "source": [
        "ingredient = re.compile('(?P<ingredient1>[a-zA-Z]+[ ]?[a-zA-Z]+?) \\d{0,}[.]?\\d{0,}? MG / (?P<ingredeint2>[a-zA-Z]+[ ]?[a-zA-Z]+?[ ]?[a-zA-Z]+?) \\d{0,}[.]?\\d{0,}? MG')\n",
        "matchobj= [ingredient.search(i)  for i in db2[\"Name\"]]  \n",
        "matchobj\n",
        "\n",
        "lists=[]\n",
        "for v in matchobj:\n",
        "  if v == None:\n",
        "    lists.append('error')\n",
        "  elif  v.group(1).lower().startswith('gl') or v.group(2).lower().startswith('gl'):\n",
        "    lists.append('SU')\n",
        "  elif v.group(1).lower().endswith('amide') or v.group(2).lower().endswith('amide'):\n",
        "    lists.append('SU')\n",
        "  elif v.group(1).lower().endswith('ozin') or v.group(2).lower().endswith('ozin'):\n",
        "    lists.append('sglt2')\n",
        "  elif v.group(1).lower().endswith('liptin') or v.group(2).lower().endswith('liptin'):\n",
        "    lists.append('dpp4i')\n",
        "  elif v.group(1).lower().endswith('zone') or v.group(2).lower().endswith('zone'):\n",
        "    lists.append('tzd')\n",
        "  elif v.group(1).lower().endswith('glinide') or v.group(2).lower().endswith('glinide'):\n",
        "    lists.append('gnd')\n",
        "  elif v.group(1).lower().startswith('mitiglinide') or v.group(2).lower().startswith('mitiglinide'): #mitiglinide calcium hydrate를 제거하기 위함. \n",
        "    lists.append('gnd') \n",
        "  elif v.group(1).lower().endswith('bose') or v.group(2).lower().endswith('bose'):\n",
        "    lists.append('alpha')\n",
        "  else:\n",
        "    lists.append('error')\n",
        "lists\n",
        "db2['type']=lists\n",
        "db2.head()"
      ],
      "metadata": {
        "id": "MZcnmSY6AemK"
      },
      "execution_count": null,
      "outputs": []
    },
    {
      "cell_type": "code",
      "source": [
        "db2.to_csv('test.csv')"
      ],
      "metadata": {
        "id": "qVJMpHMeDOLa"
      },
      "execution_count": null,
      "outputs": []
    },
    {
      "cell_type": "code",
      "source": [
        "# 1제 요법은 type= single\n",
        "# 3제 요법은 type = error \n",
        "db11=db1[db1.ingredient_count ==1]\n",
        "db13=db1[db1.ingredient_count ==3]\n",
        "db11['type'] = 'single'\n",
        "db13['type'] = 'error'\n"
      ],
      "metadata": {
        "id": "Gcj-aVbEHbRS"
      },
      "execution_count": null,
      "outputs": []
    },
    {
      "cell_type": "code",
      "source": [
        "#1,2,3 제 요법 합치기. \n",
        "dbdb = pd.concat([db11, db2, db13], axis=0)\n",
        "dbdb.head()"
      ],
      "metadata": {
        "id": "oR1DQoa_Nca3"
      },
      "execution_count": null,
      "outputs": []
    },
    {
      "cell_type": "code",
      "source": [
        "# 합치기 \n",
        "total = pd.concat([dbdb, db], axis=0)\n",
        "total.head()"
      ],
      "metadata": {
        "id": "Yf7igSqWNimt"
      },
      "execution_count": null,
      "outputs": []
    },
    {
      "cell_type": "code",
      "source": [
        "db.head()"
      ],
      "metadata": {
        "id": "pv9nYn5-NysN"
      },
      "execution_count": null,
      "outputs": []
    },
    {
      "cell_type": "code",
      "source": [
        "dbdb.head()"
      ],
      "metadata": {
        "id": "5s2hdeWyN100"
      },
      "execution_count": null,
      "outputs": []
    },
    {
      "cell_type": "code",
      "source": [
        "# 필요한 부분만 추출\n",
        "adm_type =total[['Id', 'Code', 'Name', 'Class', 'type','ingredient_count']]"
      ],
      "metadata": {
        "id": "M6KJFHxKOuQ-"
      },
      "execution_count": null,
      "outputs": []
    },
    {
      "cell_type": "code",
      "source": [
        "adm_type.head()"
      ],
      "metadata": {
        "id": "1DVIdaaSPJ37"
      },
      "execution_count": null,
      "outputs": []
    },
    {
      "cell_type": "code",
      "source": [
        "adm_type.to_csv(\"./drive/MyDrive/DW_metformin/adm_type.csv\")"
      ],
      "metadata": {
        "id": "YXHwimziPOTF"
      },
      "execution_count": null,
      "outputs": []
    },
    {
      "cell_type": "markdown",
      "source": [
        "## 대조군 약물\n",
        "###### 훨씬 많다.\n",
        "\n",
        "\"\"\" \n",
        "---\n",
        "제외 --RC/DRC 0 \n",
        "Quant Clinical Box\n",
        "Clinical Pack Box\n",
        "Branded Pack Box\n",
        "Quant Branded Box\n",
        "Branded Drug Box\n",
        "Branded Pack\n",
        "Branded Dose Group--DRC만 많음, 상품명만\n",
        "\n",
        "연결 1만 이하 \n",
        "Quant Branded Drug\n",
        "Quant Clinical Drug -숫자 글자2 성분 숫자 글자2/글자2 \n",
        "---\n",
        "연결 1만 이상\n",
        "Ingredient    --간단하게 성분만 \n",
        "\n",
        "Branded Drug : 성분 숫자 단위(MG) / 성분 숫자 단위 (RC/DRC모두 많다)\n",
        "Clinical Drug --DRC만 많음, 이하동문\n",
        "Branded Drug Comp--DRC만 많음, 이하동문\n",
        "Marketed Product --성분 용량 MG / 성분 용량 MG, 주사제의 경우 다름. 용량 ML 성분 숫자 UNT/ML / 성분 숫자.MG/ML\n",
        "\n",
        "\n",
        "Branded Drug Form--DRC만 많음, 성분/ 성분\n",
        "Clinical Dose Group--DRC만 많음, 성분/성분\n",
        "---\n",
        "GLP-1 : 실험군에선 3제 병용으로 제외. \n",
        "\n",
        "\"\"\"\n"
      ],
      "metadata": {
        "id": "wyct-HwJvnk5"
      }
    },
    {
      "cell_type": "code",
      "source": [
        "#대조군 데이터 확인 \n",
        "# c1= pd.read_csv(\"./drive/MyDrive/DW_metformin/c1.csv\")\n",
        "# c2= pd.read_csv(\"./drive/MyDrive/DW_metformin/c2.csv\")\n",
        "# c3= pd.read_csv(\"./drive/MyDrive/DW_metformin/c3.csv\")\n",
        "# c4= pd.read_csv(\"./drive/MyDrive/DW_metformin/c4.csv\")\n",
        "# c= pd.concat([c1, c2, c3,c4], axis=0)\n",
        "# c.to_csv('./drive/MyDrive/DW_metformin/c.csv')\n",
        "# c.head()\n",
        "c= pd.read_csv('./drive/MyDrive/DW_metformin/c.csv')"
      ],
      "metadata": {
        "id": "yGPxgMOYuSpL"
      },
      "execution_count": 3,
      "outputs": []
    },
    {
      "cell_type": "markdown",
      "source": [
        "###### ingredient 분류 "
      ],
      "metadata": {
        "id": "L4FuSo4d1gHv"
      }
    },
    {
      "cell_type": "code",
      "source": [
        "# ingredient 분류 \n",
        "ingredient =c[c.Class=='Ingredient']\n",
        "ingredient.head()"
      ],
      "metadata": {
        "id": "pRW1Lr8I6IdA"
      },
      "execution_count": null,
      "outputs": []
    },
    {
      "cell_type": "code",
      "source": [
        "name = ingredient['Name']\n",
        "lists=[]\n",
        "for v in name:\n",
        "  if  v.lower().startswith('gl') or v.lower().startswith('gl'):\n",
        "    lists.append('SU')\n",
        "  elif v.lower().endswith('amide') or v.lower().endswith('amide'):\n",
        "    lists.append('SU')\n",
        "  elif v.lower().endswith('ozin') or v.lower().endswith('ozin'):\n",
        "    lists.append('sglt2')\n",
        "  elif v.lower().endswith('liptin') or v.lower().endswith('liptin'):\n",
        "    lists.append('dpp4i')\n",
        "  elif v.lower().endswith('zone') or v.lower().endswith('zone'):\n",
        "    lists.append('tzd')\n",
        "  elif v.lower().endswith('glinide') or v.lower().endswith('glinide'): #mitiglinide check \n",
        "    lists.append('gnd')\n",
        "  elif v.lower().startswith('mitiglinide') or v.lower().startswith('mitiglinide'): #mitiglinide check \n",
        "    lists.append('gnd')\n",
        "  elif v.lower().endswith('bose') or v.lower().endswith('bose'):\n",
        "    lists.append('alpha')\n",
        "  elif v.lower().endswith('miglitol') or v.lower().endswith('miglitol'):\n",
        "    lists.append('alpha')\n",
        "  else:\n",
        "    lists.append('error')\n",
        "lists\n",
        "ingredient['type1']=lists\n",
        "ingredient['type2']=''\n",
        "ingredient['ingredient_count']= 1\n",
        "ingredient.head()\n",
        "#glp-1은 3제 요법으로, 보험 인정, 본 연구는 2제 요법을 대상으로 하므로 제외. "
      ],
      "metadata": {
        "id": "nK-8NB4662Gi"
      },
      "execution_count": null,
      "outputs": []
    },
    {
      "cell_type": "code",
      "source": [
        "ingredient.to_csv('./test.csv')"
      ],
      "metadata": {
        "id": "hBnT1QQo1GO3"
      },
      "execution_count": 34,
      "outputs": []
    },
    {
      "cell_type": "markdown",
      "source": [
        "#### Branded/ Clinical Drug, Branded Drug Comp, Marketed Product\n",
        "#### 형식 동일해 성분 용량 단위 형식 분류 \n",
        "---\n",
        "Branded Drug : 성분 숫자 단위(MG) / 성분 숫자 단위 (RC/DRC모두 많다)\n",
        "Clinical Drug --DRC만 많음, 이하동문\n",
        "Branded Drug Comp--DRC만 많음, 이하동문\n",
        "Marketed Product --성분 용량 MG / 성분 용량 MG, 주사제의 경우 다름. 용량 ML 성분 숫자 UNT/ML / 성분 숫자.MG/ML"
      ],
      "metadata": {
        "id": "VoMzPUVg1kXg"
      }
    },
    {
      "cell_type": "code",
      "source": [
        "# 병용 약물군 분류 \n",
        "## 성분/성분 형식만: clinical drug form, clinical dose group, branded drug  form \n",
        "condition= (c.Class=='Branded Drug') | (c.Class=='Clinical Drug') |(c.Class=='Branded Drug Comp') | (c.Class=='Marketed Product')\n",
        "db = c[condition]\n",
        "db.head()\n",
        "## 병용 성분 갯수 세기: 3제 요법이 있는지 확인. \n",
        "db['ingredient_count'] =   [i.count(' / ')+1 for i in db['Name']]\n",
        "db.head()"
      ],
      "metadata": {
        "id": "tcQ82gGc1s0b"
      },
      "execution_count": null,
      "outputs": []
    },
    {
      "cell_type": "code",
      "source": [
        "# 2제 요법만 골라서 분류. \n",
        "# 3제 요법은-error 표시 \n",
        "db1 = db[db['ingredient_count'] ==1 ]\n",
        "db2 = db[db['ingredient_count']==2]\n",
        "db3 = db[db['ingredient_count']==3]\n",
        "db3['type1'] = 'error'\n",
        "db3['type2']='error'\n",
        "db3.head()"
      ],
      "metadata": {
        "id": "51-pRGMN3I7N"
      },
      "execution_count": null,
      "outputs": []
    },
    {
      "cell_type": "code",
      "source": [
        "#1,2제 요법 나눠서 분류 \n",
        "##1제 요법 \n",
        "reg1= re.compile('(?P<ingredient1>[a-zA-Z]+[ ]?[a-zA-Z]+?) \\d{0,}[.]?\\d{0,}? MG ')\n",
        "matchobj= [reg1.search(i)  for i in db1[\"Name\"]]\n",
        "lists=[]\n",
        "for v in matchobj:\n",
        "  if v== None:\n",
        "    lists.append('error')\n",
        "  elif  v.group(1).lower().startswith('gl'):\n",
        "    lists.append('SU')\n",
        "  elif v.group(1).lower().endswith('amide'):\n",
        "    lists.append('SU')\n",
        "  elif v.group(1).lower().endswith('ozin'):\n",
        "    lists.append('sglt2')\n",
        "  elif v.group(1).lower().endswith('liptin'):\n",
        "    lists.append('dpp4i')\n",
        "  elif v.group(1).lower().endswith('zone'):\n",
        "    lists.append('tzd')\n",
        "  elif v.group(1).lower().endswith('glinide'):\n",
        "    lists.append('gnd')\n",
        "  elif v.group(1).lower().startswith('mitiglinide'): #mitiglinide calcium hydrate를 제거하기 위함. \n",
        "    lists.append('gnd') \n",
        "  elif v.group(1).lower().endswith('bose'):\n",
        "    lists.append('alpha')\n",
        "  else:\n",
        "    lists.append('error')\n",
        "lists\n",
        "db1['type1']=lists\n",
        "db1['type2']=''\n",
        "db1.head()"
      ],
      "metadata": {
        "id": "HRzxBnjR4CDf"
      },
      "execution_count": null,
      "outputs": []
    },
    {
      "cell_type": "code",
      "source": [
        "#2제 요법   \n",
        "reg2 = re.compile('(?P<ingredient1>[a-zA-Z]+[ ]?[a-zA-Z]+?) \\d{0,}[.]?\\d{0,}? MG / (?P<ingredeint2>[a-zA-Z]+[ ]?[a-zA-Z]+?[ ]?[a-zA-Z]+?) \\d{0,}[.]?\\d{0,}? MG')\n",
        "matchobj= [reg2.search(i)  for i in db2[\"Name\"]]  \n",
        "matchobj\n",
        "\n",
        "##type1\n",
        "lists=[]\n",
        "for v in matchobj:\n",
        "  if v== None:\n",
        "    lists.append('error')\n",
        "  elif  v.group(1).lower().startswith('gl'):\n",
        "    lists.append('SU')\n",
        "  elif v.group(1).lower().endswith('amide'):\n",
        "    lists.append('SU')\n",
        "  elif v.group(1).lower().endswith('ozin'):\n",
        "    lists.append('sglt2')\n",
        "  elif v.group(1).lower().endswith('liptin'):\n",
        "    lists.append('dpp4i')\n",
        "  elif v.group(1).lower().endswith('zone'):\n",
        "    lists.append('tzd')\n",
        "  elif v.group(1).lower().endswith('glinide'):\n",
        "    lists.append('gnd')\n",
        "  elif v.group(1).lower().startswith('mitiglinide'): #mitiglinide calcium hydrate를 제거하기 위함. \n",
        "    lists.append('gnd') \n",
        "  elif v.group(1).lower().endswith('bose'):\n",
        "    lists.append('alpha')\n",
        "  else:\n",
        "    lists.append('error')\n",
        "db2['type1']=lists\n",
        "\n",
        "## type2\n",
        "lists=[]\n",
        "for v in matchobj:\n",
        "  if v== None:\n",
        "    lists.append('error')\n",
        "  elif  v.group(2).lower().startswith('gl'):\n",
        "    lists.append('SU')\n",
        "  elif v.group(2).lower().endswith('amide'):\n",
        "    lists.append('SU')\n",
        "  elif v.group(2).lower().endswith('ozin'):\n",
        "    lists.append('sglt2')\n",
        "  elif v.group(2).lower().endswith('liptin'):\n",
        "    lists.append('dpp4i')\n",
        "  elif v.group(2).lower().endswith('zone'):\n",
        "    lists.append('tzd')\n",
        "  elif v.group(2).lower().endswith('glinide'):\n",
        "    lists.append('gnd')\n",
        "  elif v.group(2).lower().startswith('mitiglinide'): #mitiglinide calcium hydrate를 제거하기 위함. \n",
        "    lists.append('gnd') \n",
        "  elif v.group(2).lower().endswith('bose'):\n",
        "    lists.append('alpha')\n",
        "  else:\n",
        "    lists.append('error')\n",
        "db2['type2']=lists\n",
        "\n",
        "db2.head()"
      ],
      "metadata": {
        "id": "0EcPamVY7C5L"
      },
      "execution_count": null,
      "outputs": []
    },
    {
      "cell_type": "code",
      "source": [
        "# 합치기 \n",
        "control_1= pd.concat([ingredient, db1, db2,db3], axis=0)\n",
        "control_1.head()"
      ],
      "metadata": {
        "id": "PWqP-tHT79xk"
      },
      "execution_count": null,
      "outputs": []
    },
    {
      "cell_type": "markdown",
      "source": [
        "### Branded Drug Form, Clinical Dose Group\n",
        "#### DRC만 많음, 성분/ 성분\n"
      ],
      "metadata": {
        "id": "1DM7htMs9GFt"
      }
    },
    {
      "cell_type": "code",
      "source": [
        "condition= (c.Class=='Branded Drug Form') | (c.Class=='Clinical Dose Group')\n",
        "db = c[condition]\n",
        "db.head()"
      ],
      "metadata": {
        "id": "mnhM4brf967a"
      },
      "execution_count": null,
      "outputs": []
    },
    {
      "cell_type": "code",
      "source": [
        "#병용 약물 갯수 세기 \n",
        "## 병용 성분 갯수 세기: 3제 요법이 있는지 확인. \n",
        "db['ingredient_count'] =   [i.count(' / ')+1 for i in db['Name']]\n",
        "db.head()"
      ],
      "metadata": {
        "id": "hlzhWEl9-3FO"
      },
      "execution_count": null,
      "outputs": []
    },
    {
      "cell_type": "code",
      "source": [
        "#3제 요법 확인 --type 1, type2 모두 error\n",
        "db3= db[db['ingredient_count']==3]\n",
        "db3['type1']='error'\n",
        "db3['type2']='error'\n",
        "db3.head()\n"
      ],
      "metadata": {
        "id": "xU6ErVEZ_FfH"
      },
      "execution_count": null,
      "outputs": []
    },
    {
      "cell_type": "code",
      "source": [
        "#1제 요법 확인 -type1, type2 =''\n",
        "db1 = db[db['ingredient_count']==1]\n",
        "#1,2제 요법 나눠서 분류 \n",
        "##1제 요법 \n",
        "reg1= re.compile('(?P<ingredient1>[a-zA-Z]+)')\n",
        "matchobj= [reg1.search(i)  for i in db1[\"Name\"]]\n",
        "lists=[]\n",
        "for v in matchobj:\n",
        "  if v== None:\n",
        "    lists.append('error')\n",
        "  elif  v.group(1).lower().startswith('gl'):\n",
        "    lists.append('SU')\n",
        "  elif v.group(1).lower().endswith('amide'):\n",
        "    lists.append('SU')\n",
        "  elif v.group(1).lower().endswith('ozin'):\n",
        "    lists.append('sglt2')\n",
        "  elif v.group(1).lower().endswith('liptin'):\n",
        "    lists.append('dpp4i')\n",
        "  elif v.group(1).lower().endswith('zone'):\n",
        "    lists.append('tzd')\n",
        "  elif v.group(1).lower().endswith('glinide'):\n",
        "    lists.append('gnd')\n",
        "  elif v.group(1).lower().startswith('mitiglinide'): #mitiglinide calcium hydrate를 제거하기 위함. \n",
        "    lists.append('gnd') \n",
        "  elif v.group(1).lower().endswith('bose'):\n",
        "    lists.append('alpha')\n",
        "  else:\n",
        "    lists.append('error')\n",
        "lists\n",
        "db1['type1']=lists\n",
        "db1['type2']=''\n",
        "db1.head()"
      ],
      "metadata": {
        "id": "D4ryU4jcAAZB"
      },
      "execution_count": null,
      "outputs": []
    },
    {
      "cell_type": "code",
      "source": [
        "#2제 요법   \n",
        "reg2 = re.compile('(?P<ingredient1>[a-zA-Z]+) / (?P<ingredeint2>[a-zA-Z]+)')\n",
        "matchobj= [reg2.search(i)  for i in db2[\"Name\"]]  \n",
        "matchobj\n",
        "\n",
        "##type1\n",
        "lists=[]\n",
        "for v in matchobj:\n",
        "  if v== None:\n",
        "    lists.append('error')\n",
        "  elif  v.group(1).lower().startswith('gl'):\n",
        "    lists.append('SU')\n",
        "  elif v.group(1).lower().endswith('amide'):\n",
        "    lists.append('SU')\n",
        "  elif v.group(1).lower().endswith('ozin'):\n",
        "    lists.append('sglt2')\n",
        "  elif v.group(1).lower().endswith('liptin'):\n",
        "    lists.append('dpp4i')\n",
        "  elif v.group(1).lower().endswith('zone'):\n",
        "    lists.append('tzd')\n",
        "  elif v.group(1).lower().endswith('glinide'):\n",
        "    lists.append('gnd')\n",
        "  elif v.group(1).lower().startswith('mitiglinide'): #mitiglinide calcium hydrate를 제거하기 위함. \n",
        "    lists.append('gnd') \n",
        "  elif v.group(1).lower().endswith('bose'):\n",
        "    lists.append('alpha')\n",
        "  else:\n",
        "    lists.append('error')\n",
        "db2['type1']=lists\n",
        "\n",
        "## type2\n",
        "lists=[]\n",
        "for v in matchobj:\n",
        "  if v== None:\n",
        "    lists.append('error')\n",
        "  elif  v.group(2).lower().startswith('gl'):\n",
        "    lists.append('SU')\n",
        "  elif v.group(2).lower().endswith('amide'):\n",
        "    lists.append('SU')\n",
        "  elif v.group(2).lower().endswith('ozin'):\n",
        "    lists.append('sglt2')\n",
        "  elif v.group(2).lower().endswith('liptin'):\n",
        "    lists.append('dpp4i')\n",
        "  elif v.group(2).lower().endswith('zone'):\n",
        "    lists.append('tzd')\n",
        "  elif v.group(2).lower().endswith('glinide'):\n",
        "    lists.append('gnd')\n",
        "  elif v.group(2).lower().startswith('mitiglinide'): #mitiglinide calcium hydrate를 제거하기 위함. \n",
        "    lists.append('gnd') \n",
        "  elif v.group(2).lower().endswith('bose'):\n",
        "    lists.append('alpha')\n",
        "  else:\n",
        "    lists.append('error')\n",
        "db2['type2']=lists\n",
        "\n",
        "db2.head()"
      ],
      "metadata": {
        "id": "sIAHcaI7ArhU"
      },
      "execution_count": null,
      "outputs": []
    },
    {
      "cell_type": "code",
      "source": [
        "# 합치기 \n",
        "control= pd.concat([control_1, db1, db2,db3], axis=0)\n",
        "control.head()"
      ],
      "metadata": {
        "id": "hihDOe0XA9dd"
      },
      "execution_count": null,
      "outputs": []
    },
    {
      "cell_type": "code",
      "source": [
        "control.to_csv('./drive/MyDrive/DW_metformin/adm_type_control.csv')"
      ],
      "metadata": {
        "id": "7TYh2GIPBYEJ"
      },
      "execution_count": 47,
      "outputs": []
    }
  ]
}